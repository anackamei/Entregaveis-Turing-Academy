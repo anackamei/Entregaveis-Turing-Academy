{
  "nbformat": 4,
  "nbformat_minor": 0,
  "metadata": {
    "colab": {
      "provenance": []
    },
    "kernelspec": {
      "name": "python3",
      "display_name": "Python 3"
    },
    "language_info": {
      "name": "python"
    }
  },
  "cells": [
    {
      "cell_type": "markdown",
      "source": [
        "https://docs.google.com/document/d/1CQFp25sCyrXsWO8Qj9HqXVk_TmAF7tNLstLsHy2sSzs/edit"
      ],
      "metadata": {
        "id": "s9eJUvIQpNdU"
      }
    },
    {
      "cell_type": "code",
      "source": [
        "import pandas as pd\n",
        "import matplotlib.pyplot as plt\n",
        "import seaborn as sns\n",
        "from sklearn.preprocessing import LabelEncoder\n",
        "from sklearn.preprocessing import OrdinalEncoder\n",
        "from sklearn.preprocessing import MinMaxScaler\n",
        "from sklearn.model_selection import train_test_split\n",
        "from sklearn.neighbors import KNeighborsClassifier\n",
        "from sklearn.metrics import accuracy_score\n",
        "\n",
        "from imblearn.under_sampling import RandomUnderSampler\n",
        "from imblearn.over_sampling import SMOTE\n",
        "from sklearn.metrics import precision_score, recall_score\n",
        "import numpy as np\n",
        "\n",
        "# Ler o arquivo PSV\n",
        "df = pd.read_csv('dataset3.psv', sep='|')\n",
        "\n",
        "# Salvar os dados em um arquivo CSV\n",
        "df.to_csv('dataset3.csv', index=False)\n",
        "\n",
        "df"
      ],
      "metadata": {
        "colab": {
          "base_uri": "https://localhost:8080/",
          "height": 574
        },
        "id": "gOTrxkxqpPXL",
        "outputId": "4bd0a727-97f5-4924-fbcf-9f1a0e0119cf"
      },
      "execution_count": 65,
      "outputs": [
        {
          "output_type": "execute_result",
          "data": {
            "text/plain": [
              "        employee_id         department     region         education gender  \\\n",
              "0             65438  Sales & Marketing   region_7  Master's & above      f   \n",
              "1             65141         Operations  region_22        Bachelor's      m   \n",
              "2              7513  Sales & Marketing  region_19        Bachelor's      m   \n",
              "3              2542  Sales & Marketing  region_23        Bachelor's      m   \n",
              "4             48945         Technology  region_26        Bachelor's      m   \n",
              "...             ...                ...        ...               ...    ...   \n",
              "54803          3030         Technology  region_14        Bachelor's      m   \n",
              "54804         74592         Operations  region_27  Master's & above      f   \n",
              "54805         13918          Analytics   region_1        Bachelor's      m   \n",
              "54806         13614  Sales & Marketing   region_9               NaN      m   \n",
              "54807         51526                 HR  region_22        Bachelor's      m   \n",
              "\n",
              "      recruitment_channel  no_of_trainings  age  previous_year_rating  \\\n",
              "0                sourcing              1.0   35                   5.0   \n",
              "1                   other              1.0   30                   5.0   \n",
              "2                sourcing              1.0   34                   3.0   \n",
              "3                   other              2.0   39                   1.0   \n",
              "4                   other              1.0   45                   3.0   \n",
              "...                   ...              ...  ...                   ...   \n",
              "54803            sourcing              1.0   48                   3.0   \n",
              "54804               other              1.0   37                   2.0   \n",
              "54805               other              1.0   27                   5.0   \n",
              "54806            sourcing              1.0   29                   1.0   \n",
              "54807               other              1.0   27                   1.0   \n",
              "\n",
              "       length_of_service  awards_won?  avg_training_score  is_promoted  \n",
              "0                      8            0                49.0            0  \n",
              "1                      4            0                60.0            0  \n",
              "2                      7            0                50.0            0  \n",
              "3                     10            0                50.0            0  \n",
              "4                      2            0                73.0            0  \n",
              "...                  ...          ...                 ...          ...  \n",
              "54803                 17            0                 NaN            0  \n",
              "54804                  6            0                56.0            0  \n",
              "54805                  3            0                79.0            0  \n",
              "54806                  2            0                45.0            0  \n",
              "54807                  5            0                49.0            0  \n",
              "\n",
              "[54808 rows x 13 columns]"
            ],
            "text/html": [
              "\n",
              "\n",
              "  <div id=\"df-588ea36e-7cb5-4ed1-ae0c-27f04807995d\">\n",
              "    <div class=\"colab-df-container\">\n",
              "      <div>\n",
              "<style scoped>\n",
              "    .dataframe tbody tr th:only-of-type {\n",
              "        vertical-align: middle;\n",
              "    }\n",
              "\n",
              "    .dataframe tbody tr th {\n",
              "        vertical-align: top;\n",
              "    }\n",
              "\n",
              "    .dataframe thead th {\n",
              "        text-align: right;\n",
              "    }\n",
              "</style>\n",
              "<table border=\"1\" class=\"dataframe\">\n",
              "  <thead>\n",
              "    <tr style=\"text-align: right;\">\n",
              "      <th></th>\n",
              "      <th>employee_id</th>\n",
              "      <th>department</th>\n",
              "      <th>region</th>\n",
              "      <th>education</th>\n",
              "      <th>gender</th>\n",
              "      <th>recruitment_channel</th>\n",
              "      <th>no_of_trainings</th>\n",
              "      <th>age</th>\n",
              "      <th>previous_year_rating</th>\n",
              "      <th>length_of_service</th>\n",
              "      <th>awards_won?</th>\n",
              "      <th>avg_training_score</th>\n",
              "      <th>is_promoted</th>\n",
              "    </tr>\n",
              "  </thead>\n",
              "  <tbody>\n",
              "    <tr>\n",
              "      <th>0</th>\n",
              "      <td>65438</td>\n",
              "      <td>Sales &amp; Marketing</td>\n",
              "      <td>region_7</td>\n",
              "      <td>Master's &amp; above</td>\n",
              "      <td>f</td>\n",
              "      <td>sourcing</td>\n",
              "      <td>1.0</td>\n",
              "      <td>35</td>\n",
              "      <td>5.0</td>\n",
              "      <td>8</td>\n",
              "      <td>0</td>\n",
              "      <td>49.0</td>\n",
              "      <td>0</td>\n",
              "    </tr>\n",
              "    <tr>\n",
              "      <th>1</th>\n",
              "      <td>65141</td>\n",
              "      <td>Operations</td>\n",
              "      <td>region_22</td>\n",
              "      <td>Bachelor's</td>\n",
              "      <td>m</td>\n",
              "      <td>other</td>\n",
              "      <td>1.0</td>\n",
              "      <td>30</td>\n",
              "      <td>5.0</td>\n",
              "      <td>4</td>\n",
              "      <td>0</td>\n",
              "      <td>60.0</td>\n",
              "      <td>0</td>\n",
              "    </tr>\n",
              "    <tr>\n",
              "      <th>2</th>\n",
              "      <td>7513</td>\n",
              "      <td>Sales &amp; Marketing</td>\n",
              "      <td>region_19</td>\n",
              "      <td>Bachelor's</td>\n",
              "      <td>m</td>\n",
              "      <td>sourcing</td>\n",
              "      <td>1.0</td>\n",
              "      <td>34</td>\n",
              "      <td>3.0</td>\n",
              "      <td>7</td>\n",
              "      <td>0</td>\n",
              "      <td>50.0</td>\n",
              "      <td>0</td>\n",
              "    </tr>\n",
              "    <tr>\n",
              "      <th>3</th>\n",
              "      <td>2542</td>\n",
              "      <td>Sales &amp; Marketing</td>\n",
              "      <td>region_23</td>\n",
              "      <td>Bachelor's</td>\n",
              "      <td>m</td>\n",
              "      <td>other</td>\n",
              "      <td>2.0</td>\n",
              "      <td>39</td>\n",
              "      <td>1.0</td>\n",
              "      <td>10</td>\n",
              "      <td>0</td>\n",
              "      <td>50.0</td>\n",
              "      <td>0</td>\n",
              "    </tr>\n",
              "    <tr>\n",
              "      <th>4</th>\n",
              "      <td>48945</td>\n",
              "      <td>Technology</td>\n",
              "      <td>region_26</td>\n",
              "      <td>Bachelor's</td>\n",
              "      <td>m</td>\n",
              "      <td>other</td>\n",
              "      <td>1.0</td>\n",
              "      <td>45</td>\n",
              "      <td>3.0</td>\n",
              "      <td>2</td>\n",
              "      <td>0</td>\n",
              "      <td>73.0</td>\n",
              "      <td>0</td>\n",
              "    </tr>\n",
              "    <tr>\n",
              "      <th>...</th>\n",
              "      <td>...</td>\n",
              "      <td>...</td>\n",
              "      <td>...</td>\n",
              "      <td>...</td>\n",
              "      <td>...</td>\n",
              "      <td>...</td>\n",
              "      <td>...</td>\n",
              "      <td>...</td>\n",
              "      <td>...</td>\n",
              "      <td>...</td>\n",
              "      <td>...</td>\n",
              "      <td>...</td>\n",
              "      <td>...</td>\n",
              "    </tr>\n",
              "    <tr>\n",
              "      <th>54803</th>\n",
              "      <td>3030</td>\n",
              "      <td>Technology</td>\n",
              "      <td>region_14</td>\n",
              "      <td>Bachelor's</td>\n",
              "      <td>m</td>\n",
              "      <td>sourcing</td>\n",
              "      <td>1.0</td>\n",
              "      <td>48</td>\n",
              "      <td>3.0</td>\n",
              "      <td>17</td>\n",
              "      <td>0</td>\n",
              "      <td>NaN</td>\n",
              "      <td>0</td>\n",
              "    </tr>\n",
              "    <tr>\n",
              "      <th>54804</th>\n",
              "      <td>74592</td>\n",
              "      <td>Operations</td>\n",
              "      <td>region_27</td>\n",
              "      <td>Master's &amp; above</td>\n",
              "      <td>f</td>\n",
              "      <td>other</td>\n",
              "      <td>1.0</td>\n",
              "      <td>37</td>\n",
              "      <td>2.0</td>\n",
              "      <td>6</td>\n",
              "      <td>0</td>\n",
              "      <td>56.0</td>\n",
              "      <td>0</td>\n",
              "    </tr>\n",
              "    <tr>\n",
              "      <th>54805</th>\n",
              "      <td>13918</td>\n",
              "      <td>Analytics</td>\n",
              "      <td>region_1</td>\n",
              "      <td>Bachelor's</td>\n",
              "      <td>m</td>\n",
              "      <td>other</td>\n",
              "      <td>1.0</td>\n",
              "      <td>27</td>\n",
              "      <td>5.0</td>\n",
              "      <td>3</td>\n",
              "      <td>0</td>\n",
              "      <td>79.0</td>\n",
              "      <td>0</td>\n",
              "    </tr>\n",
              "    <tr>\n",
              "      <th>54806</th>\n",
              "      <td>13614</td>\n",
              "      <td>Sales &amp; Marketing</td>\n",
              "      <td>region_9</td>\n",
              "      <td>NaN</td>\n",
              "      <td>m</td>\n",
              "      <td>sourcing</td>\n",
              "      <td>1.0</td>\n",
              "      <td>29</td>\n",
              "      <td>1.0</td>\n",
              "      <td>2</td>\n",
              "      <td>0</td>\n",
              "      <td>45.0</td>\n",
              "      <td>0</td>\n",
              "    </tr>\n",
              "    <tr>\n",
              "      <th>54807</th>\n",
              "      <td>51526</td>\n",
              "      <td>HR</td>\n",
              "      <td>region_22</td>\n",
              "      <td>Bachelor's</td>\n",
              "      <td>m</td>\n",
              "      <td>other</td>\n",
              "      <td>1.0</td>\n",
              "      <td>27</td>\n",
              "      <td>1.0</td>\n",
              "      <td>5</td>\n",
              "      <td>0</td>\n",
              "      <td>49.0</td>\n",
              "      <td>0</td>\n",
              "    </tr>\n",
              "  </tbody>\n",
              "</table>\n",
              "<p>54808 rows × 13 columns</p>\n",
              "</div>\n",
              "      <button class=\"colab-df-convert\" onclick=\"convertToInteractive('df-588ea36e-7cb5-4ed1-ae0c-27f04807995d')\"\n",
              "              title=\"Convert this dataframe to an interactive table.\"\n",
              "              style=\"display:none;\">\n",
              "\n",
              "  <svg xmlns=\"http://www.w3.org/2000/svg\" height=\"24px\"viewBox=\"0 0 24 24\"\n",
              "       width=\"24px\">\n",
              "    <path d=\"M0 0h24v24H0V0z\" fill=\"none\"/>\n",
              "    <path d=\"M18.56 5.44l.94 2.06.94-2.06 2.06-.94-2.06-.94-.94-2.06-.94 2.06-2.06.94zm-11 1L8.5 8.5l.94-2.06 2.06-.94-2.06-.94L8.5 2.5l-.94 2.06-2.06.94zm10 10l.94 2.06.94-2.06 2.06-.94-2.06-.94-.94-2.06-.94 2.06-2.06.94z\"/><path d=\"M17.41 7.96l-1.37-1.37c-.4-.4-.92-.59-1.43-.59-.52 0-1.04.2-1.43.59L10.3 9.45l-7.72 7.72c-.78.78-.78 2.05 0 2.83L4 21.41c.39.39.9.59 1.41.59.51 0 1.02-.2 1.41-.59l7.78-7.78 2.81-2.81c.8-.78.8-2.07 0-2.86zM5.41 20L4 18.59l7.72-7.72 1.47 1.35L5.41 20z\"/>\n",
              "  </svg>\n",
              "      </button>\n",
              "\n",
              "\n",
              "\n",
              "    <div id=\"df-06a4a8ef-439f-4616-bfa5-c29881c9b41f\">\n",
              "      <button class=\"colab-df-quickchart\" onclick=\"quickchart('df-06a4a8ef-439f-4616-bfa5-c29881c9b41f')\"\n",
              "              title=\"Suggest charts.\"\n",
              "              style=\"display:none;\">\n",
              "\n",
              "<svg xmlns=\"http://www.w3.org/2000/svg\" height=\"24px\"viewBox=\"0 0 24 24\"\n",
              "     width=\"24px\">\n",
              "    <g>\n",
              "        <path d=\"M19 3H5c-1.1 0-2 .9-2 2v14c0 1.1.9 2 2 2h14c1.1 0 2-.9 2-2V5c0-1.1-.9-2-2-2zM9 17H7v-7h2v7zm4 0h-2V7h2v10zm4 0h-2v-4h2v4z\"/>\n",
              "    </g>\n",
              "</svg>\n",
              "      </button>\n",
              "    </div>\n",
              "\n",
              "<style>\n",
              "  .colab-df-quickchart {\n",
              "    background-color: #E8F0FE;\n",
              "    border: none;\n",
              "    border-radius: 50%;\n",
              "    cursor: pointer;\n",
              "    display: none;\n",
              "    fill: #1967D2;\n",
              "    height: 32px;\n",
              "    padding: 0 0 0 0;\n",
              "    width: 32px;\n",
              "  }\n",
              "\n",
              "  .colab-df-quickchart:hover {\n",
              "    background-color: #E2EBFA;\n",
              "    box-shadow: 0px 1px 2px rgba(60, 64, 67, 0.3), 0px 1px 3px 1px rgba(60, 64, 67, 0.15);\n",
              "    fill: #174EA6;\n",
              "  }\n",
              "\n",
              "  [theme=dark] .colab-df-quickchart {\n",
              "    background-color: #3B4455;\n",
              "    fill: #D2E3FC;\n",
              "  }\n",
              "\n",
              "  [theme=dark] .colab-df-quickchart:hover {\n",
              "    background-color: #434B5C;\n",
              "    box-shadow: 0px 1px 3px 1px rgba(0, 0, 0, 0.15);\n",
              "    filter: drop-shadow(0px 1px 2px rgba(0, 0, 0, 0.3));\n",
              "    fill: #FFFFFF;\n",
              "  }\n",
              "</style>\n",
              "\n",
              "    <script>\n",
              "      async function quickchart(key) {\n",
              "        const containerElement = document.querySelector('#' + key);\n",
              "        const charts = await google.colab.kernel.invokeFunction(\n",
              "            'suggestCharts', [key], {});\n",
              "      }\n",
              "    </script>\n",
              "\n",
              "      <script>\n",
              "\n",
              "function displayQuickchartButton(domScope) {\n",
              "  let quickchartButtonEl =\n",
              "    domScope.querySelector('#df-06a4a8ef-439f-4616-bfa5-c29881c9b41f button.colab-df-quickchart');\n",
              "  quickchartButtonEl.style.display =\n",
              "    google.colab.kernel.accessAllowed ? 'block' : 'none';\n",
              "}\n",
              "\n",
              "        displayQuickchartButton(document);\n",
              "      </script>\n",
              "      <style>\n",
              "    .colab-df-container {\n",
              "      display:flex;\n",
              "      flex-wrap:wrap;\n",
              "      gap: 12px;\n",
              "    }\n",
              "\n",
              "    .colab-df-convert {\n",
              "      background-color: #E8F0FE;\n",
              "      border: none;\n",
              "      border-radius: 50%;\n",
              "      cursor: pointer;\n",
              "      display: none;\n",
              "      fill: #1967D2;\n",
              "      height: 32px;\n",
              "      padding: 0 0 0 0;\n",
              "      width: 32px;\n",
              "    }\n",
              "\n",
              "    .colab-df-convert:hover {\n",
              "      background-color: #E2EBFA;\n",
              "      box-shadow: 0px 1px 2px rgba(60, 64, 67, 0.3), 0px 1px 3px 1px rgba(60, 64, 67, 0.15);\n",
              "      fill: #174EA6;\n",
              "    }\n",
              "\n",
              "    [theme=dark] .colab-df-convert {\n",
              "      background-color: #3B4455;\n",
              "      fill: #D2E3FC;\n",
              "    }\n",
              "\n",
              "    [theme=dark] .colab-df-convert:hover {\n",
              "      background-color: #434B5C;\n",
              "      box-shadow: 0px 1px 3px 1px rgba(0, 0, 0, 0.15);\n",
              "      filter: drop-shadow(0px 1px 2px rgba(0, 0, 0, 0.3));\n",
              "      fill: #FFFFFF;\n",
              "    }\n",
              "  </style>\n",
              "\n",
              "      <script>\n",
              "        const buttonEl =\n",
              "          document.querySelector('#df-588ea36e-7cb5-4ed1-ae0c-27f04807995d button.colab-df-convert');\n",
              "        buttonEl.style.display =\n",
              "          google.colab.kernel.accessAllowed ? 'block' : 'none';\n",
              "\n",
              "        async function convertToInteractive(key) {\n",
              "          const element = document.querySelector('#df-588ea36e-7cb5-4ed1-ae0c-27f04807995d');\n",
              "          const dataTable =\n",
              "            await google.colab.kernel.invokeFunction('convertToInteractive',\n",
              "                                                     [key], {});\n",
              "          if (!dataTable) return;\n",
              "\n",
              "          const docLinkHtml = 'Like what you see? Visit the ' +\n",
              "            '<a target=\"_blank\" href=https://colab.research.google.com/notebooks/data_table.ipynb>data table notebook</a>'\n",
              "            + ' to learn more about interactive tables.';\n",
              "          element.innerHTML = '';\n",
              "          dataTable['output_type'] = 'display_data';\n",
              "          await google.colab.output.renderOutput(dataTable, element);\n",
              "          const docLink = document.createElement('div');\n",
              "          docLink.innerHTML = docLinkHtml;\n",
              "          element.appendChild(docLink);\n",
              "        }\n",
              "      </script>\n",
              "    </div>\n",
              "  </div>\n"
            ]
          },
          "metadata": {},
          "execution_count": 65
        }
      ]
    },
    {
      "cell_type": "code",
      "source": [
        "print(df.info())\n",
        "print(df.describe())"
      ],
      "metadata": {
        "colab": {
          "base_uri": "https://localhost:8080/"
        },
        "id": "dlbipRlSt_y9",
        "outputId": "eed1cd30-18ec-4ef9-a17e-6966ee765f25"
      },
      "execution_count": 66,
      "outputs": [
        {
          "output_type": "stream",
          "name": "stdout",
          "text": [
            "<class 'pandas.core.frame.DataFrame'>\n",
            "RangeIndex: 54808 entries, 0 to 54807\n",
            "Data columns (total 13 columns):\n",
            " #   Column                Non-Null Count  Dtype  \n",
            "---  ------                --------------  -----  \n",
            " 0    employee_id          54808 non-null  int64  \n",
            " 1   department            54808 non-null  object \n",
            " 2   region                54808 non-null  object \n",
            " 3   education             52399 non-null  object \n",
            " 4   gender                54808 non-null  object \n",
            " 5   recruitment_channel   54808 non-null  object \n",
            " 6   no_of_trainings       49962 non-null  float64\n",
            " 7   age                   54808 non-null  int64  \n",
            " 8   previous_year_rating  50684 non-null  float64\n",
            " 9   length_of_service     54808 non-null  int64  \n",
            " 10  awards_won?           54808 non-null  int64  \n",
            " 11  avg_training_score    47350 non-null  float64\n",
            " 12  is_promoted           54808 non-null  int64  \n",
            "dtypes: float64(3), int64(5), object(5)\n",
            "memory usage: 5.4+ MB\n",
            "None\n",
            "        employee_id  no_of_trainings            age  previous_year_rating  \\\n",
            "count  54808.000000     49962.000000   54808.000000          50684.000000   \n",
            "mean   39195.830627         1.256475     273.521530              3.329256   \n",
            "std    22586.581449         0.612734    5422.563711              1.259993   \n",
            "min        1.000000         1.000000     -32.000000              1.000000   \n",
            "25%    19669.750000         1.000000      29.000000              3.000000   \n",
            "50%    39225.500000         1.000000      33.000000              3.000000   \n",
            "75%    58730.500000         1.000000      39.000000              4.000000   \n",
            "max    78298.000000        10.000000  123456.000000              5.000000   \n",
            "\n",
            "       length_of_service   awards_won?  avg_training_score   is_promoted  \n",
            "count       54808.000000  54808.000000        47350.000000  54808.000000  \n",
            "mean            5.865512      0.023172           63.514213      0.085170  \n",
            "std             4.265094      0.150450           13.492071      0.279137  \n",
            "min             1.000000      0.000000           39.000000      0.000000  \n",
            "25%             3.000000      0.000000           51.000000      0.000000  \n",
            "50%             5.000000      0.000000           60.000000      0.000000  \n",
            "75%             7.000000      0.000000           77.000000      0.000000  \n",
            "max            37.000000      1.000000           99.000000      1.000000  \n"
          ]
        }
      ]
    },
    {
      "cell_type": "markdown",
      "source": [
        "Item a)"
      ],
      "metadata": {
        "id": "GYIPsagINoCw"
      }
    },
    {
      "cell_type": "code",
      "source": [
        "print(df.department.unique())\n",
        "\n",
        "print(df.region.unique())\n",
        "\n",
        "print(df.education.unique())\n",
        "\n",
        "print(df.gender.unique())\n",
        "\n",
        "print(df.recruitment_channel.unique())\n"
      ],
      "metadata": {
        "colab": {
          "base_uri": "https://localhost:8080/"
        },
        "id": "YD73BPs3vTh5",
        "outputId": "ed0485c5-8be5-4874-8415-12b44df5503c"
      },
      "execution_count": 67,
      "outputs": [
        {
          "output_type": "stream",
          "name": "stdout",
          "text": [
            "['Sales & Marketing' 'Operations' 'Technology' 'Analytics' 'R&D'\n",
            " 'Procurement' 'Finance' 'HR' 'Legal' 'quem trouxe quenga']\n",
            "['region_7' 'region_22' 'region_19' 'region_23' 'region_26' 'region_2'\n",
            " 'region_20' 'region_34' 'region_1' 'region_4' 'region_29' 'region_31'\n",
            " 'region_15' 'region_14' 'region_11' 'region_5' 'region_28' 'region_17'\n",
            " 'region_13' 'region_16' 'region_25' 'region_10' 'region_27' 'region_30'\n",
            " 'region_12' 'region_21' 'region_8' 'region_32' 'region_6' 'region_33'\n",
            " 'region_24' 'region_3' 'region_9' 'region_18' 'casa da lu na suecia']\n",
            "[\"Master's & above\" \"Bachelor's\" nan 'Below Secondary']\n",
            "['f' 'm' 'MALE' 'fEMALE' 'eu sou homem hetero homossexual!']\n",
            "['sourcing' 'other' 'referred']\n"
          ]
        }
      ]
    },
    {
      "cell_type": "code",
      "source": [
        "df['gender'] = df['gender'].replace('fEMALE', 'f')\n",
        "df['gender'] = df['gender'].replace('MALE', 'm')\n",
        "\n",
        "print(df.gender.unique())"
      ],
      "metadata": {
        "colab": {
          "base_uri": "https://localhost:8080/"
        },
        "id": "K8uLL7VywKHT",
        "outputId": "5bfdd49f-f02d-4b3a-e261-24affa955ae0"
      },
      "execution_count": 68,
      "outputs": [
        {
          "output_type": "stream",
          "name": "stdout",
          "text": [
            "['f' 'm' 'eu sou homem hetero homossexual!']\n"
          ]
        }
      ]
    },
    {
      "cell_type": "code",
      "source": [
        "# Tirando os engraçadinhos\n",
        "df = df.drop(df[df['department'] == 'quem trouxe quenga'].index)\n",
        "df = df.drop(df[df['region'] == 'casa da lu na suecia'].index)\n",
        "df = df.drop(df[df['gender'] == 'eu sou homem hetero homossexual!'].index)\n",
        "\n",
        "print(df.department.unique())\n",
        "\n",
        "print(df.region.unique())\n",
        "\n",
        "print(df.gender.unique())"
      ],
      "metadata": {
        "colab": {
          "base_uri": "https://localhost:8080/"
        },
        "id": "aKJdz0z8wy4z",
        "outputId": "2e2aa0bb-ca70-464d-cced-0be98cf6a893"
      },
      "execution_count": 69,
      "outputs": [
        {
          "output_type": "stream",
          "name": "stdout",
          "text": [
            "['Sales & Marketing' 'Operations' 'Technology' 'Analytics' 'R&D'\n",
            " 'Procurement' 'Finance' 'HR' 'Legal']\n",
            "['region_7' 'region_22' 'region_19' 'region_23' 'region_26' 'region_2'\n",
            " 'region_20' 'region_34' 'region_1' 'region_4' 'region_29' 'region_31'\n",
            " 'region_15' 'region_14' 'region_11' 'region_5' 'region_28' 'region_17'\n",
            " 'region_13' 'region_16' 'region_25' 'region_10' 'region_27' 'region_30'\n",
            " 'region_12' 'region_21' 'region_8' 'region_32' 'region_6' 'region_24'\n",
            " 'region_3' 'region_9' 'region_33' 'region_18']\n",
            "['f' 'm']\n"
          ]
        }
      ]
    },
    {
      "cell_type": "code",
      "source": [
        "df.info()"
      ],
      "metadata": {
        "colab": {
          "base_uri": "https://localhost:8080/"
        },
        "id": "3tectpRrywIz",
        "outputId": "104c1955-d8b7-4c89-a825-9574cb6cc09b"
      },
      "execution_count": 70,
      "outputs": [
        {
          "output_type": "stream",
          "name": "stdout",
          "text": [
            "<class 'pandas.core.frame.DataFrame'>\n",
            "Int64Index: 54555 entries, 0 to 54807\n",
            "Data columns (total 13 columns):\n",
            " #   Column                Non-Null Count  Dtype  \n",
            "---  ------                --------------  -----  \n",
            " 0    employee_id          54555 non-null  int64  \n",
            " 1   department            54555 non-null  object \n",
            " 2   region                54555 non-null  object \n",
            " 3   education             52146 non-null  object \n",
            " 4   gender                54555 non-null  object \n",
            " 5   recruitment_channel   54555 non-null  object \n",
            " 6   no_of_trainings       49711 non-null  float64\n",
            " 7   age                   54555 non-null  int64  \n",
            " 8   previous_year_rating  50441 non-null  float64\n",
            " 9   length_of_service     54555 non-null  int64  \n",
            " 10  awards_won?           54555 non-null  int64  \n",
            " 11  avg_training_score    47100 non-null  float64\n",
            " 12  is_promoted           54555 non-null  int64  \n",
            "dtypes: float64(3), int64(5), object(5)\n",
            "memory usage: 5.8+ MB\n"
          ]
        }
      ]
    },
    {
      "cell_type": "code",
      "source": [
        "# Se coluna de número de treinamentos está vazia se assume que a pessoa não realizou nenhum, similarmente com a educação\n",
        "df['no_of_trainings'] = df['no_of_trainings'].fillna(0)\n",
        "\n",
        "df['education'] = df['education'].fillna(\"Below Secondary\")\n",
        "\n",
        "df.info()"
      ],
      "metadata": {
        "colab": {
          "base_uri": "https://localhost:8080/"
        },
        "id": "AdH6yO8zyXeD",
        "outputId": "f887d47e-5032-4a9f-b0c2-da4a36212aae"
      },
      "execution_count": 71,
      "outputs": [
        {
          "output_type": "stream",
          "name": "stdout",
          "text": [
            "<class 'pandas.core.frame.DataFrame'>\n",
            "Int64Index: 54555 entries, 0 to 54807\n",
            "Data columns (total 13 columns):\n",
            " #   Column                Non-Null Count  Dtype  \n",
            "---  ------                --------------  -----  \n",
            " 0    employee_id          54555 non-null  int64  \n",
            " 1   department            54555 non-null  object \n",
            " 2   region                54555 non-null  object \n",
            " 3   education             54555 non-null  object \n",
            " 4   gender                54555 non-null  object \n",
            " 5   recruitment_channel   54555 non-null  object \n",
            " 6   no_of_trainings       54555 non-null  float64\n",
            " 7   age                   54555 non-null  int64  \n",
            " 8   previous_year_rating  50441 non-null  float64\n",
            " 9   length_of_service     54555 non-null  int64  \n",
            " 10  awards_won?           54555 non-null  int64  \n",
            " 11  avg_training_score    47100 non-null  float64\n",
            " 12  is_promoted           54555 non-null  int64  \n",
            "dtypes: float64(3), int64(5), object(5)\n",
            "memory usage: 5.8+ MB\n"
          ]
        }
      ]
    },
    {
      "cell_type": "code",
      "source": [
        "# Transformar valores negativos em positivos na coluna 'age'\n",
        "df['age'] = df['age'].abs()\n",
        "\n",
        "# Imprimir os valores maiores que 100 na coluna 'age'\n",
        "print(df[df['age'] > 100]['age'])\n",
        "\n",
        "df = df.drop(df[df['age'] == 123456].index)\n",
        "\n",
        "print(df.age.min())\n",
        "print(df.age.max())"
      ],
      "metadata": {
        "colab": {
          "base_uri": "https://localhost:8080/"
        },
        "id": "tTeM1wsMzuRL",
        "outputId": "1be4c05a-d008-466c-ad08-f3da746b0edd"
      },
      "execution_count": 72,
      "outputs": [
        {
          "output_type": "stream",
          "name": "stdout",
          "text": [
            "318      123456\n",
            "341      123456\n",
            "429      123456\n",
            "771      123456\n",
            "1199     123456\n",
            "          ...  \n",
            "53399    123456\n",
            "53892    123456\n",
            "54051    123456\n",
            "54462    123456\n",
            "54698    123456\n",
            "Name: age, Length: 106, dtype: int64\n",
            "20\n",
            "60\n"
          ]
        }
      ]
    },
    {
      "cell_type": "code",
      "source": [
        "df.describe()"
      ],
      "metadata": {
        "colab": {
          "base_uri": "https://localhost:8080/",
          "height": 344
        },
        "id": "swPpZolW0GS7",
        "outputId": "e0b658aa-3f67-4f23-ec5a-da8e0319068c"
      },
      "execution_count": 73,
      "outputs": [
        {
          "output_type": "execute_result",
          "data": {
            "text/plain": [
              "        employee_id  no_of_trainings           age  previous_year_rating  \\\n",
              "count  54449.000000     54449.000000  54449.000000          50375.000000   \n",
              "mean   39195.586512         1.145641     34.817352              3.330243   \n",
              "std    22590.899160         0.685974      7.648249              1.260837   \n",
              "min        1.000000         0.000000     20.000000              1.000000   \n",
              "25%    19670.000000         1.000000     29.000000              3.000000   \n",
              "50%    39220.000000         1.000000     33.000000              3.000000   \n",
              "75%    58734.000000         1.000000     39.000000              4.000000   \n",
              "max    78298.000000        10.000000     60.000000              5.000000   \n",
              "\n",
              "       length_of_service   awards_won?  avg_training_score   is_promoted  \n",
              "count       54449.000000  54449.000000        47018.000000  54449.000000  \n",
              "mean            5.869493      0.022682           63.504084      0.085328  \n",
              "std             4.261186      0.148888           13.497572      0.279371  \n",
              "min             1.000000      0.000000           39.000000      0.000000  \n",
              "25%             3.000000      0.000000           51.000000      0.000000  \n",
              "50%             5.000000      0.000000           60.000000      0.000000  \n",
              "75%             7.000000      0.000000           77.000000      0.000000  \n",
              "max            37.000000      1.000000           99.000000      1.000000  "
            ],
            "text/html": [
              "\n",
              "\n",
              "  <div id=\"df-49a2d1e8-2372-477a-90a0-720395d4399d\">\n",
              "    <div class=\"colab-df-container\">\n",
              "      <div>\n",
              "<style scoped>\n",
              "    .dataframe tbody tr th:only-of-type {\n",
              "        vertical-align: middle;\n",
              "    }\n",
              "\n",
              "    .dataframe tbody tr th {\n",
              "        vertical-align: top;\n",
              "    }\n",
              "\n",
              "    .dataframe thead th {\n",
              "        text-align: right;\n",
              "    }\n",
              "</style>\n",
              "<table border=\"1\" class=\"dataframe\">\n",
              "  <thead>\n",
              "    <tr style=\"text-align: right;\">\n",
              "      <th></th>\n",
              "      <th>employee_id</th>\n",
              "      <th>no_of_trainings</th>\n",
              "      <th>age</th>\n",
              "      <th>previous_year_rating</th>\n",
              "      <th>length_of_service</th>\n",
              "      <th>awards_won?</th>\n",
              "      <th>avg_training_score</th>\n",
              "      <th>is_promoted</th>\n",
              "    </tr>\n",
              "  </thead>\n",
              "  <tbody>\n",
              "    <tr>\n",
              "      <th>count</th>\n",
              "      <td>54449.000000</td>\n",
              "      <td>54449.000000</td>\n",
              "      <td>54449.000000</td>\n",
              "      <td>50375.000000</td>\n",
              "      <td>54449.000000</td>\n",
              "      <td>54449.000000</td>\n",
              "      <td>47018.000000</td>\n",
              "      <td>54449.000000</td>\n",
              "    </tr>\n",
              "    <tr>\n",
              "      <th>mean</th>\n",
              "      <td>39195.586512</td>\n",
              "      <td>1.145641</td>\n",
              "      <td>34.817352</td>\n",
              "      <td>3.330243</td>\n",
              "      <td>5.869493</td>\n",
              "      <td>0.022682</td>\n",
              "      <td>63.504084</td>\n",
              "      <td>0.085328</td>\n",
              "    </tr>\n",
              "    <tr>\n",
              "      <th>std</th>\n",
              "      <td>22590.899160</td>\n",
              "      <td>0.685974</td>\n",
              "      <td>7.648249</td>\n",
              "      <td>1.260837</td>\n",
              "      <td>4.261186</td>\n",
              "      <td>0.148888</td>\n",
              "      <td>13.497572</td>\n",
              "      <td>0.279371</td>\n",
              "    </tr>\n",
              "    <tr>\n",
              "      <th>min</th>\n",
              "      <td>1.000000</td>\n",
              "      <td>0.000000</td>\n",
              "      <td>20.000000</td>\n",
              "      <td>1.000000</td>\n",
              "      <td>1.000000</td>\n",
              "      <td>0.000000</td>\n",
              "      <td>39.000000</td>\n",
              "      <td>0.000000</td>\n",
              "    </tr>\n",
              "    <tr>\n",
              "      <th>25%</th>\n",
              "      <td>19670.000000</td>\n",
              "      <td>1.000000</td>\n",
              "      <td>29.000000</td>\n",
              "      <td>3.000000</td>\n",
              "      <td>3.000000</td>\n",
              "      <td>0.000000</td>\n",
              "      <td>51.000000</td>\n",
              "      <td>0.000000</td>\n",
              "    </tr>\n",
              "    <tr>\n",
              "      <th>50%</th>\n",
              "      <td>39220.000000</td>\n",
              "      <td>1.000000</td>\n",
              "      <td>33.000000</td>\n",
              "      <td>3.000000</td>\n",
              "      <td>5.000000</td>\n",
              "      <td>0.000000</td>\n",
              "      <td>60.000000</td>\n",
              "      <td>0.000000</td>\n",
              "    </tr>\n",
              "    <tr>\n",
              "      <th>75%</th>\n",
              "      <td>58734.000000</td>\n",
              "      <td>1.000000</td>\n",
              "      <td>39.000000</td>\n",
              "      <td>4.000000</td>\n",
              "      <td>7.000000</td>\n",
              "      <td>0.000000</td>\n",
              "      <td>77.000000</td>\n",
              "      <td>0.000000</td>\n",
              "    </tr>\n",
              "    <tr>\n",
              "      <th>max</th>\n",
              "      <td>78298.000000</td>\n",
              "      <td>10.000000</td>\n",
              "      <td>60.000000</td>\n",
              "      <td>5.000000</td>\n",
              "      <td>37.000000</td>\n",
              "      <td>1.000000</td>\n",
              "      <td>99.000000</td>\n",
              "      <td>1.000000</td>\n",
              "    </tr>\n",
              "  </tbody>\n",
              "</table>\n",
              "</div>\n",
              "      <button class=\"colab-df-convert\" onclick=\"convertToInteractive('df-49a2d1e8-2372-477a-90a0-720395d4399d')\"\n",
              "              title=\"Convert this dataframe to an interactive table.\"\n",
              "              style=\"display:none;\">\n",
              "\n",
              "  <svg xmlns=\"http://www.w3.org/2000/svg\" height=\"24px\"viewBox=\"0 0 24 24\"\n",
              "       width=\"24px\">\n",
              "    <path d=\"M0 0h24v24H0V0z\" fill=\"none\"/>\n",
              "    <path d=\"M18.56 5.44l.94 2.06.94-2.06 2.06-.94-2.06-.94-.94-2.06-.94 2.06-2.06.94zm-11 1L8.5 8.5l.94-2.06 2.06-.94-2.06-.94L8.5 2.5l-.94 2.06-2.06.94zm10 10l.94 2.06.94-2.06 2.06-.94-2.06-.94-.94-2.06-.94 2.06-2.06.94z\"/><path d=\"M17.41 7.96l-1.37-1.37c-.4-.4-.92-.59-1.43-.59-.52 0-1.04.2-1.43.59L10.3 9.45l-7.72 7.72c-.78.78-.78 2.05 0 2.83L4 21.41c.39.39.9.59 1.41.59.51 0 1.02-.2 1.41-.59l7.78-7.78 2.81-2.81c.8-.78.8-2.07 0-2.86zM5.41 20L4 18.59l7.72-7.72 1.47 1.35L5.41 20z\"/>\n",
              "  </svg>\n",
              "      </button>\n",
              "\n",
              "\n",
              "\n",
              "    <div id=\"df-773b90b4-64ed-4423-b177-3742dc335273\">\n",
              "      <button class=\"colab-df-quickchart\" onclick=\"quickchart('df-773b90b4-64ed-4423-b177-3742dc335273')\"\n",
              "              title=\"Suggest charts.\"\n",
              "              style=\"display:none;\">\n",
              "\n",
              "<svg xmlns=\"http://www.w3.org/2000/svg\" height=\"24px\"viewBox=\"0 0 24 24\"\n",
              "     width=\"24px\">\n",
              "    <g>\n",
              "        <path d=\"M19 3H5c-1.1 0-2 .9-2 2v14c0 1.1.9 2 2 2h14c1.1 0 2-.9 2-2V5c0-1.1-.9-2-2-2zM9 17H7v-7h2v7zm4 0h-2V7h2v10zm4 0h-2v-4h2v4z\"/>\n",
              "    </g>\n",
              "</svg>\n",
              "      </button>\n",
              "    </div>\n",
              "\n",
              "<style>\n",
              "  .colab-df-quickchart {\n",
              "    background-color: #E8F0FE;\n",
              "    border: none;\n",
              "    border-radius: 50%;\n",
              "    cursor: pointer;\n",
              "    display: none;\n",
              "    fill: #1967D2;\n",
              "    height: 32px;\n",
              "    padding: 0 0 0 0;\n",
              "    width: 32px;\n",
              "  }\n",
              "\n",
              "  .colab-df-quickchart:hover {\n",
              "    background-color: #E2EBFA;\n",
              "    box-shadow: 0px 1px 2px rgba(60, 64, 67, 0.3), 0px 1px 3px 1px rgba(60, 64, 67, 0.15);\n",
              "    fill: #174EA6;\n",
              "  }\n",
              "\n",
              "  [theme=dark] .colab-df-quickchart {\n",
              "    background-color: #3B4455;\n",
              "    fill: #D2E3FC;\n",
              "  }\n",
              "\n",
              "  [theme=dark] .colab-df-quickchart:hover {\n",
              "    background-color: #434B5C;\n",
              "    box-shadow: 0px 1px 3px 1px rgba(0, 0, 0, 0.15);\n",
              "    filter: drop-shadow(0px 1px 2px rgba(0, 0, 0, 0.3));\n",
              "    fill: #FFFFFF;\n",
              "  }\n",
              "</style>\n",
              "\n",
              "    <script>\n",
              "      async function quickchart(key) {\n",
              "        const containerElement = document.querySelector('#' + key);\n",
              "        const charts = await google.colab.kernel.invokeFunction(\n",
              "            'suggestCharts', [key], {});\n",
              "      }\n",
              "    </script>\n",
              "\n",
              "      <script>\n",
              "\n",
              "function displayQuickchartButton(domScope) {\n",
              "  let quickchartButtonEl =\n",
              "    domScope.querySelector('#df-773b90b4-64ed-4423-b177-3742dc335273 button.colab-df-quickchart');\n",
              "  quickchartButtonEl.style.display =\n",
              "    google.colab.kernel.accessAllowed ? 'block' : 'none';\n",
              "}\n",
              "\n",
              "        displayQuickchartButton(document);\n",
              "      </script>\n",
              "      <style>\n",
              "    .colab-df-container {\n",
              "      display:flex;\n",
              "      flex-wrap:wrap;\n",
              "      gap: 12px;\n",
              "    }\n",
              "\n",
              "    .colab-df-convert {\n",
              "      background-color: #E8F0FE;\n",
              "      border: none;\n",
              "      border-radius: 50%;\n",
              "      cursor: pointer;\n",
              "      display: none;\n",
              "      fill: #1967D2;\n",
              "      height: 32px;\n",
              "      padding: 0 0 0 0;\n",
              "      width: 32px;\n",
              "    }\n",
              "\n",
              "    .colab-df-convert:hover {\n",
              "      background-color: #E2EBFA;\n",
              "      box-shadow: 0px 1px 2px rgba(60, 64, 67, 0.3), 0px 1px 3px 1px rgba(60, 64, 67, 0.15);\n",
              "      fill: #174EA6;\n",
              "    }\n",
              "\n",
              "    [theme=dark] .colab-df-convert {\n",
              "      background-color: #3B4455;\n",
              "      fill: #D2E3FC;\n",
              "    }\n",
              "\n",
              "    [theme=dark] .colab-df-convert:hover {\n",
              "      background-color: #434B5C;\n",
              "      box-shadow: 0px 1px 3px 1px rgba(0, 0, 0, 0.15);\n",
              "      filter: drop-shadow(0px 1px 2px rgba(0, 0, 0, 0.3));\n",
              "      fill: #FFFFFF;\n",
              "    }\n",
              "  </style>\n",
              "\n",
              "      <script>\n",
              "        const buttonEl =\n",
              "          document.querySelector('#df-49a2d1e8-2372-477a-90a0-720395d4399d button.colab-df-convert');\n",
              "        buttonEl.style.display =\n",
              "          google.colab.kernel.accessAllowed ? 'block' : 'none';\n",
              "\n",
              "        async function convertToInteractive(key) {\n",
              "          const element = document.querySelector('#df-49a2d1e8-2372-477a-90a0-720395d4399d');\n",
              "          const dataTable =\n",
              "            await google.colab.kernel.invokeFunction('convertToInteractive',\n",
              "                                                     [key], {});\n",
              "          if (!dataTable) return;\n",
              "\n",
              "          const docLinkHtml = 'Like what you see? Visit the ' +\n",
              "            '<a target=\"_blank\" href=https://colab.research.google.com/notebooks/data_table.ipynb>data table notebook</a>'\n",
              "            + ' to learn more about interactive tables.';\n",
              "          element.innerHTML = '';\n",
              "          dataTable['output_type'] = 'display_data';\n",
              "          await google.colab.output.renderOutput(dataTable, element);\n",
              "          const docLink = document.createElement('div');\n",
              "          docLink.innerHTML = docLinkHtml;\n",
              "          element.appendChild(docLink);\n",
              "        }\n",
              "      </script>\n",
              "    </div>\n",
              "  </div>\n"
            ]
          },
          "metadata": {},
          "execution_count": 73
        }
      ]
    },
    {
      "cell_type": "code",
      "source": [
        "# Se não realizou treinamentos, a nota média de treinamentos recebe 0\n",
        "df.loc[df['no_of_trainings'] == 0, 'avg_training_score'] = 0\n",
        "\n",
        "df.info()"
      ],
      "metadata": {
        "id": "A8swf77L0zZz",
        "outputId": "42d88456-7b6e-4141-9e1a-0a686138fcbc",
        "colab": {
          "base_uri": "https://localhost:8080/"
        }
      },
      "execution_count": 74,
      "outputs": [
        {
          "output_type": "stream",
          "name": "stdout",
          "text": [
            "<class 'pandas.core.frame.DataFrame'>\n",
            "Int64Index: 54449 entries, 0 to 54807\n",
            "Data columns (total 13 columns):\n",
            " #   Column                Non-Null Count  Dtype  \n",
            "---  ------                --------------  -----  \n",
            " 0    employee_id          54449 non-null  int64  \n",
            " 1   department            54449 non-null  object \n",
            " 2   region                54449 non-null  object \n",
            " 3   education             54449 non-null  object \n",
            " 4   gender                54449 non-null  object \n",
            " 5   recruitment_channel   54449 non-null  object \n",
            " 6   no_of_trainings       54449 non-null  float64\n",
            " 7   age                   54449 non-null  int64  \n",
            " 8   previous_year_rating  50375 non-null  float64\n",
            " 9   length_of_service     54449 non-null  int64  \n",
            " 10  awards_won?           54449 non-null  int64  \n",
            " 11  avg_training_score    51838 non-null  float64\n",
            " 12  is_promoted           54449 non-null  int64  \n",
            "dtypes: float64(3), int64(5), object(5)\n",
            "memory usage: 5.8+ MB\n"
          ]
        }
      ]
    },
    {
      "cell_type": "code",
      "source": [
        "# Calcular a média das colunas 'previous_year_rating' e 'avg_training_score' agrupadas por 'no_of_trainings'\n",
        "mean_ratings = df.groupby('no_of_trainings')['previous_year_rating'].mean()\n",
        "mean_scores = df.groupby('no_of_trainings')['avg_training_score'].mean()\n",
        "\n",
        "# Substituir os valores nulos nas colunas 'previous_year_rating' e 'avg_training_score' pela média correspondente\n",
        "df['previous_year_rating'] = df.apply(lambda x: mean_ratings[x['no_of_trainings']] if pd.isnull(x['previous_year_rating']) else x['previous_year_rating'], axis=1)\n",
        "df['avg_training_score'] = df.apply(lambda x: mean_scores[x['no_of_trainings']] if pd.isnull(x['avg_training_score']) else x['avg_training_score'], axis=1)\n"
      ],
      "metadata": {
        "id": "tas9iGlZG4gY"
      },
      "execution_count": 75,
      "outputs": []
    },
    {
      "cell_type": "code",
      "source": [
        "# Criar matriz de correlação para o dataset\n",
        "colunas_numericas = df.select_dtypes(include='number')\n",
        "\n",
        "matriz_correlacao = colunas_numericas.corr()\n",
        "\n",
        "matriz_correlacao = df.select_dtypes(include='number').corr()\n",
        "\n",
        "plt.figure(figsize=(7, 4))\n",
        "\n",
        "sns.heatmap(matriz_correlacao, annot=True, cmap='coolwarm', fmt=\".2f\")\n",
        "\n",
        "plt.title('Matriz de Correlação')\n",
        "\n",
        "plt.show()"
      ],
      "metadata": {
        "colab": {
          "base_uri": "https://localhost:8080/",
          "height": 522
        },
        "id": "8B9xYFCeSAvg",
        "outputId": "973c7de7-19a1-4265-b6c5-c28b1955ea61"
      },
      "execution_count": 76,
      "outputs": [
        {
          "output_type": "display_data",
          "data": {
            "text/plain": [
              "<Figure size 700x400 with 2 Axes>"
            ],
            "image/png": "[encoded data removed]"
          },
          "metadata": {}
        }
      ]
    },
    {
      "cell_type": "markdown",
      "source": [
        "Item b) Após a limpeza de dados, percebe-se que a maioria das variáveis tem correlação baixísima entre si e o dataset não parece ter outliers, apenas dados errados que foram removidos."
      ],
      "metadata": {
        "id": "iED-GuPtROG4"
      }
    },
    {
      "cell_type": "markdown",
      "source": [
        "Item c) Utilizei Label Encoding para as variáveis sem ordem específica e Ordinal Encoding para a educação, que aumenta conforme a complexidade da graduação do funcionário."
      ],
      "metadata": {
        "id": "FM7NNp_vNXbn"
      }
    },
    {
      "cell_type": "code",
      "source": [
        "'''\n",
        " 1   department            54555 non-null  object\n",
        " 2   region                54555 non-null  object\n",
        " 3   education             54555 non-null  object\n",
        " 4   gender                54555 non-null  object\n",
        " 5   recruitment_channel   54555 non-null  object\n",
        "'''\n",
        "\n",
        "label_encoder = LabelEncoder()\n",
        "\n",
        "df['department'] = label_encoder.fit_transform(df['department'])\n",
        "\n",
        "label_encoder = LabelEncoder()\n",
        "df['gender'] = label_encoder.fit_transform(df['gender'])\n",
        "\n",
        "label_encoder = LabelEncoder()\n",
        "df['recruitment_channel'] = label_encoder.fit_transform(df['recruitment_channel'])\n",
        "\n",
        "label_encoder = LabelEncoder()\n",
        "\n",
        "df['region'] = label_encoder.fit_transform(df['region'])\n",
        "\n",
        "\n",
        "ordinal_encoder = OrdinalEncoder()\n",
        "\n",
        "ordem_categorias = [\"Below Secondary\", \"Bachelor's\", \"Master's & above\"]\n",
        "\n",
        "df['education'] = ordinal_encoder.fit_transform(df[['education']], ordem_categorias)\n"
      ],
      "metadata": {
        "id": "SwTCUhcNKPEp"
      },
      "execution_count": 77,
      "outputs": []
    },
    {
      "cell_type": "markdown",
      "source": [
        "Item d)"
      ],
      "metadata": {
        "id": "Sw2QFzYoUR9o"
      }
    },
    {
      "cell_type": "code",
      "source": [
        "'''\n",
        "  0    employee_id          54449 non-null  int64\n",
        " 1   department            54449 non-null  object\n",
        " 2   region                54449 non-null  object\n",
        " 3   education             54449 non-null  object\n",
        " 4   gender                54449 non-null  object\n",
        " 5   recruitment_channel   54449 non-null  object\n",
        " 6   no_of_trainings       54449 non-null  float64\n",
        " 7   age                   54449 non-null  int64\n",
        " 8   previous_year_rating  50375 non-null  float64\n",
        " 9   length_of_service     54449 non-null  int64\n",
        " 10  awards_won?           54449 non-null  int64\n",
        " 11  avg_training_score    51838 non-null  float64\n",
        " 12  is_promoted           54449 non-null  int64\n",
        "\n",
        " '''\n",
        "\n",
        "scaler = MinMaxScaler()\n",
        "\n",
        "colunas_continuas = ['no_of_trainings', 'previous_year_rating', 'avg_training_score']\n",
        "df[colunas_continuas] = scaler.fit_transform(df[colunas_continuas])"
      ],
      "metadata": {
        "id": "Nw-qnf45N7lm"
      },
      "execution_count": 78,
      "outputs": []
    },
    {
      "cell_type": "markdown",
      "source": [
        "Item e)"
      ],
      "metadata": {
        "id": "TrF3nZpBUWSo"
      }
    },
    {
      "cell_type": "code",
      "source": [
        "# Separar os dados em variáveis preditoras (X) e variável alvo (y)\n",
        "X = df.drop('is_promoted', axis=1)\n",
        "y = df['is_promoted']\n",
        "\n",
        "# Dividir os dados em conjunto de treinamento e teste\n",
        "X_train, X_test, y_train, y_test = train_test_split(X, y, test_size=0.2, random_state=42)\n",
        "\n",
        "melhor_k = None\n",
        "melhor_acuracia = 0.0\n",
        "\n",
        "# Testar diferentes valores de K e encontrar o menor número de vizinhos com a maior acurácia\n",
        "for k in range(1, 21):\n",
        "    model = KNeighborsClassifier(n_neighbors=k)\n",
        "\n",
        "    model.fit(X_train, y_train)\n",
        "\n",
        "    y_pred = model.predict(X_test)\n",
        "\n",
        "    acuracia = accuracy_score(y_test, y_pred)\n",
        "\n",
        "    if acuracia > melhor_acuracia:\n",
        "        melhor_acuracia = acuracia\n",
        "        melhor_k = k\n",
        "\n",
        "print(\"Melhor valor de K:\", melhor_k)\n",
        "print(\"Maior acurácia:\", melhor_acuracia)"
      ],
      "metadata": {
        "colab": {
          "base_uri": "https://localhost:8080/"
        },
        "id": "4MRDgI6PQAeP",
        "outputId": "2e3c1117-7402-480c-eafc-8af6a696e01e"
      },
      "execution_count": 79,
      "outputs": [
        {
          "output_type": "stream",
          "name": "stdout",
          "text": [
            "Melhor valor de K: 10\n",
            "Maior acurácia: 0.9141414141414141\n"
          ]
        }
      ]
    },
    {
      "cell_type": "markdown",
      "source": [
        "Item f) Dados desbalanceados são dados em que determinada característica que se deseja treinar o modelo para identificar aparece com frequência muito maior ou muito menor em relação ao restante dos dados. Isso faz com que os modelos possam assumir que a característica presente na maioria dos dados ocorra 100% das vezes e ainda assim consiga uma boa acurácia. Aparentemente isso ocorreu com o modelo KNN acima pois o número de funcionários sugeridos para promoção é muito baixo, cerca de 8%."
      ],
      "metadata": {
        "id": "XTEZ8ppAUZH3"
      }
    },
    {
      "cell_type": "code",
      "source": [
        "# Contando o número de funcionários que estão sugeridos para promoção\n",
        "count_0 = df['is_promoted'].value_counts()[0]\n",
        "count_1 = df['is_promoted'].value_counts()[1]\n",
        "\n",
        "print(\"Número de colunas iguais a 0:\", count_0)\n",
        "print(\"Número de colunas iguais a 1:\", count_1)"
      ],
      "metadata": {
        "colab": {
          "base_uri": "https://localhost:8080/"
        },
        "id": "mdEMekOVQzDJ",
        "outputId": "70a3a458-b2b4-45cf-d084-c57955bf8d99"
      },
      "execution_count": 80,
      "outputs": [
        {
          "output_type": "stream",
          "name": "stdout",
          "text": [
            "Número de colunas iguais a 0: 49803\n",
            "Número de colunas iguais a 1: 4646\n"
          ]
        }
      ]
    },
    {
      "cell_type": "code",
      "source": [
        "count_1/(count_1+count_0)"
      ],
      "metadata": {
        "colab": {
          "base_uri": "https://localhost:8080/"
        },
        "id": "kJDNF3Z2wREk",
        "outputId": "11ab51d2-2e85-4d20-f606-ad33b5a43afe"
      },
      "execution_count": 81,
      "outputs": [
        {
          "output_type": "execute_result",
          "data": {
            "text/plain": [
              "0.08532755422505464"
            ]
          },
          "metadata": {},
          "execution_count": 81
        }
      ]
    },
    {
      "cell_type": "markdown",
      "source": [
        "Item g) Precisão = Verdadeiros positivos / (Verdadeiros positivos + Falsos positivos), calcula quantidade de positivos classificados corretamente.\n",
        "\n",
        "Recall = Verdadeiros positivos / (Verdadeiros positivos + Falsos negativos), calcula a quantidade de positivos classificados em relação a quantidade real de positivos.\n",
        "\n",
        "A precisão e o recall do modelo foram 0, o que indica que o erro suposto no item f realmente aconteceu, o modelo previu que 0 funcionários seriam promovidos."
      ],
      "metadata": {
        "id": "kNWZxIfyUkCw"
      }
    },
    {
      "cell_type": "code",
      "source": [
        "# Criar o modelo KNN com o melhor valor de K encontrado\n",
        "model = KNeighborsClassifier(n_neighbors=melhor_k)\n",
        "\n",
        "# Treinar o modelo com os dados de treinamento\n",
        "model.fit(X_train, y_train)\n",
        "\n",
        "# Fazer previsões nos dados de teste\n",
        "y_pred = model.predict(X_test)\n",
        "\n",
        "# Calcular a precisão e o recall\n",
        "precisao = precision_score(y_test, y_pred)\n",
        "recall = recall_score(y_test, y_pred)\n",
        "\n",
        "print(\"Precisão:\", precisao)\n",
        "print(\"Recall:\", recall)"
      ],
      "metadata": {
        "colab": {
          "base_uri": "https://localhost:8080/"
        },
        "id": "zRQuDQSZyb18",
        "outputId": "f82e7559-69be-455e-9b0d-7bbe5f8bd0e0"
      },
      "execution_count": 82,
      "outputs": [
        {
          "output_type": "stream",
          "name": "stdout",
          "text": [
            "Precisão: 0.0\n",
            "Recall: 0.0\n"
          ]
        },
        {
          "output_type": "stream",
          "name": "stderr",
          "text": [
            "/usr/local/lib/python3.10/dist-packages/sklearn/metrics/_classification.py:1344: UndefinedMetricWarning: Precision is ill-defined and being set to 0.0 due to no predicted samples. Use `zero_division` parameter to control this behavior.\n",
            "  _warn_prf(average, modifier, msg_start, len(result))\n"
          ]
        }
      ]
    },
    {
      "cell_type": "code",
      "source": [
        "if 1 in y_pred:\n",
        "    precisao = precision_score(y_test, y_pred)\n",
        "else:\n",
        "    precisao = 0.0\n",
        "\n",
        "print(precisao)"
      ],
      "metadata": {
        "colab": {
          "base_uri": "https://localhost:8080/"
        },
        "id": "WhkGMpxw2GkG",
        "outputId": "f361135a-0461-4755-9849-77d6b84af6e7"
      },
      "execution_count": 83,
      "outputs": [
        {
          "output_type": "stream",
          "name": "stdout",
          "text": [
            "0.0\n"
          ]
        }
      ]
    },
    {
      "cell_type": "markdown",
      "source": [
        "Item h) Foi utilizada a técnica de reamostragem Oversampling a fim de aumentar o número de dados da classe minoritária no conjunto de dados. Estes são gerados artificialmente através da técnica SMOTE, que interpola características dos dados reais existentes.\n",
        "Pedi pro ChatGPT criar um código que testasse os valores do *sampling_strategy*, proporção de aumento dos dados, para que esta maximizasse o recall e a precisão"
      ],
      "metadata": {
        "id": "si3NlMnaX0gR"
      }
    },
    {
      "cell_type": "code",
      "source": [
        "#Separar as features e o target\n",
        "X = df.drop('is_promoted', axis=1)\n",
        "y = df['is_promoted']\n",
        "\n",
        "melhor_s = None\n",
        "melhor_precisao = 0.0\n",
        "melhor_recall = 0.0\n",
        "\n",
        "#Testar diferentes valores de sampling strategy e encontrar o melhor\n",
        "for s in np.arange(0.1, 1.1, 0.1):\n",
        "  oversampler = SMOTE(sampling_strategy=s)\n",
        "  X_oversampled, y_oversampled = oversampler.fit_resample(X, y)\n",
        "\n",
        "\n",
        "# Separar os dados em variáveis preditoras (X) e variável alvo (y)\n",
        "X_train, X_test, y_train, y_test = train_test_split(X_oversampled, y_oversampled, test_size=0.2, random_state=27)\n",
        "\n",
        "model = KNeighborsClassifier(n_neighbors=3)\n",
        "\n",
        "model.fit(X_train, y_train)\n",
        "\n",
        "y_pred = model.predict(X_test)\n",
        "\n",
        "precisao = precision_score(y_test, y_pred)\n",
        "recall = recall_score(y_test, y_pred)\n",
        "\n",
        "if precisao > melhor_precisao and recall > melhor_recall:\n",
        "    melhor_precisao = precisao\n",
        "    melhor_recall = recall\n",
        "    melhor_s = s\n",
        "print(\"Melhor valor de sampling strategy:\", melhor_s)\n",
        "print(\"Melhor precisão:\", melhor_precisao)\n",
        "print(\"Melhor recall:\", melhor_recall)\n",
        "\n",
        "#Criar o modelo KNN com o melhor valor de sampling strategy encontrado\n",
        "oversampler = SMOTE(sampling_strategy=melhor_s)\n",
        "X_oversampled, y_oversampled = oversampler.fit_resample(X, y)\n",
        "\n",
        "#Separar os dados em variáveis preditoras (X) e variável alvo (y)\n",
        "X_train, X_test, y_train, y_test = train_test_split(X_oversampled, y_oversampled, test_size=0.2, random_state=27)\n",
        "\n",
        "model = KNeighborsClassifier(n_neighbors=3)\n",
        "\n",
        "#Treinar o modelo com os dados de treinamento\n",
        "model.fit(X_train, y_train)\n",
        "\n",
        "#Fazer previsões nos dados de teste\n",
        "y_pred = model.predict(X_test)\n",
        "\n",
        "#Calcular a precisão e o recall\n",
        "precisao = precision_score(y_test, y_pred)\n",
        "recall = recall_score(y_test, y_pred)\n",
        "\n",
        "#Exibir os resultados\n",
        "print(\"Precisão:\", precisao)\n",
        "print(\"Recall:\", recall)"
      ],
      "metadata": {
        "colab": {
          "base_uri": "https://localhost:8080/"
        },
        "id": "oY0efE1gXhYf",
        "outputId": "22400c85-00be-4304-be83-c5224ed9444e"
      },
      "execution_count": 144,
      "outputs": [
        {
          "output_type": "stream",
          "name": "stdout",
          "text": [
            "Melhor valor de sampling strategy: 1.0\n",
            "Melhor precisão: 0.712460815047022\n",
            "Melhor recall: 0.9158774934515415\n",
            "Precisão: 0.7098842664998436\n",
            "Recall: 0.9145678017328229\n"
          ]
        }
      ]
    }
  ]
}